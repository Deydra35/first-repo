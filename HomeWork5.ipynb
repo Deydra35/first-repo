{
 "cells": [
  {
   "cell_type": "code",
   "execution_count": 136,
   "metadata": {},
   "outputs": [],
   "source": [
    "%matplotlib inline\n",
    "\n",
    "import random\n",
    "import numpy as np\n",
    "import matplotlib.pyplot as plt\n",
    "import itertools\n",
    "import math"
   ]
  },
  {
   "cell_type": "markdown",
   "metadata": {},
   "source": [
    "1. Напишите код, моделирующий выпадение поля в рулетке (с учетом поля зеро)."
   ]
  },
  {
   "cell_type": "code",
   "execution_count": 137,
   "metadata": {},
   "outputs": [
    {
     "name": "stdout",
     "output_type": "stream",
     "text": [
      "10\n"
     ]
    }
   ],
   "source": [
    "number = random.randint(0,36)\n",
    "print(number)"
   ]
  },
  {
   "cell_type": "markdown",
   "metadata": {},
   "source": [
    "2.1. Напишите код, проверяющий любую из теорем сложения или умножения вероятности на примере рулетки или подбрасывания монетки."
   ]
  },
  {
   "cell_type": "code",
   "execution_count": 138,
   "metadata": {},
   "outputs": [
    {
     "name": "stdout",
     "output_type": "stream",
     "text": [
      "Вероятность выпадения красного на рулетке равна частному от деления 18 (колличество красных полей) на 37 (всего полей)\n",
      "Вероятность выпадения одного конкретного красного поля равна 1/37\n",
      "Вероятность суммы: 0.4864864864864865\n",
      "Сумма вероятностей: 0.4864864864864865\n"
     ]
    }
   ],
   "source": [
    "print('Вероятность выпадения красного на рулетке равна частному от деления 18 (колличество красных полей) на 37 (всего полей)')\n",
    "print('Вероятность выпадения одного конкретного красного поля равна 1/37')\n",
    "P1 = 18/37\n",
    "P2 = 0\n",
    "for i in range(1, 19):\n",
    "    P2 += 1/37\n",
    "print('Вероятность суммы:', P1)\n",
    "print('Сумма вероятностей:', P2)"
   ]
  },
  {
   "cell_type": "markdown",
   "metadata": {},
   "source": [
    "2.2. Сгенерируйте десять выборок случайных чисел х0, …, х9.\n",
    "и постройте гистограмму распределения случайной суммы х0+х1+ …+ х9."
   ]
  },
  {
   "cell_type": "code",
   "execution_count": 139,
   "metadata": {},
   "outputs": [
    {
     "name": "stdout",
     "output_type": "stream",
     "text": [
      "[7.071595034630963, 7.225934790621498, 5.04155027997422, 4.112625352509101, 4.284394653913423, 3.5760515996919198, 5.357490848635871, 5.9510907630975165, 5.5192163734108375, 3.611225408923161]\n"
     ]
    },
    {
     "data": {
      "text/plain": [
       "Text(0.5, 1.0, 'Histogram')"
      ]
     },
     "execution_count": 139,
     "metadata": {},
     "output_type": "execute_result"
    },
    {
     "data": {
      "image/png": "[encoded data removed]",
      "text/plain": [
       "<Figure size 432x288 with 1 Axes>"
      ]
     },
     "metadata": {
      "needs_background": "light"
     },
     "output_type": "display_data"
    }
   ],
   "source": [
    "mas_count = []\n",
    "for i in range(10):\n",
    "    mas = np.random.rand(10)\n",
    "    mas_count.append(sum((mas[j] for j in range(0, len(mas)))))\n",
    "print(mas_count)\n",
    "num_bins = 5\n",
    "n, bins, patches = plt.hist(mas_count, num_bins)\n",
    "plt.xlabel('X')\n",
    "plt.ylabel('Probability')\n",
    "plt.title('Histogram')"
   ]
  },
  {
   "cell_type": "markdown",
   "metadata": {},
   "source": [
    "3.1. Дополните код Монте-Карло последовательности независимых испытаний расчетом соответствующих вероятностей (через биномиальное распределение) и сравните результаты."
   ]
  },
  {
   "cell_type": "code",
   "execution_count": 140,
   "metadata": {},
   "outputs": [
    {
     "name": "stdout",
     "output_type": "stream",
     "text": [
      "3784 10000 0.3784\n",
      "0.375\n"
     ]
    }
   ],
   "source": [
    "k, n  =0, 10000\n",
    "a = np.random.randint(0, 2, n)\n",
    "b = np.random.randint(0, 2, n)\n",
    "c = np.random.randint(0, 2, n)\n",
    "d = np.random.randint(0, 2, n)\n",
    "x = a + b + c + d\n",
    "for i in range (0, n):\n",
    "    if x[i] == 2:\n",
    "        k += 1\n",
    "print(k, n, k/n)\n",
    "\n",
    "k = 2\n",
    "n = 4\n",
    "p = 0.5\n",
    "q = 0.5\n",
    "Pn = math.factorial(n)*p**k*q**(n-k)/(math.factorial(k)*math.factorial(n-k))\n",
    "print(Pn)"
   ]
  },
  {
   "cell_type": "markdown",
   "metadata": {},
   "source": [
    "3.2. Повторите расчеты биномиальных коэффициентов и вероятностей k успехов в последовательности из n независимых испытаний, взяв другие значения n и k."
   ]
  },
  {
   "cell_type": "code",
   "execution_count": 141,
   "metadata": {},
   "outputs": [
    {
     "name": "stdout",
     "output_type": "stream",
     "text": [
      "2803 10000 0.2803\n",
      "0.2734375\n"
     ]
    }
   ],
   "source": [
    "k, n  =0, 10000\n",
    "a = np.random.randint(0, 2, n)\n",
    "b = np.random.randint(0, 2, n)\n",
    "c = np.random.randint(0, 2, n)\n",
    "d = np.random.randint(0, 2, n)\n",
    "e = np.random.randint(0, 2, n)\n",
    "f = np.random.randint(0, 2, n)\n",
    "g = np.random.randint(0, 2, n)\n",
    "x = a + b + c + d + e + f + g\n",
    "for i in range (0, n):\n",
    "    if x[i] == 3:\n",
    "        k += 1\n",
    "print(k, n, k/n)\n",
    "\n",
    "k = 3\n",
    "n = 7\n",
    "p = 0.5\n",
    "q = 0.5\n",
    "Pn = math.factorial(n)*p**k*q**(n-k)/(math.factorial(k)*math.factorial(n-k))\n",
    "print(Pn)"
   ]
  },
  {
   "cell_type": "markdown",
   "metadata": {},
   "source": [
    "4. Из урока по комбинаторике повторите расчеты, сгенерировав возможные варианты перестановок для других значений n и k"
   ]
  },
  {
   "cell_type": "code",
   "execution_count": 151,
   "metadata": {},
   "outputs": [
    {
     "name": "stdout",
     "output_type": "stream",
     "text": [
      "2345\n",
      "2346\n",
      "2354\n",
      "2356\n",
      "2364\n",
      "2365\n",
      "2435\n",
      "2436\n",
      "2453\n",
      "2456\n",
      "2463\n",
      "2465\n",
      "2534\n",
      "2536\n",
      "2543\n",
      "2546\n",
      "2563\n",
      "2564\n",
      "2634\n",
      "2635\n",
      "2643\n",
      "2645\n",
      "2653\n",
      "2654\n",
      "3245\n",
      "3246\n",
      "3254\n",
      "3256\n",
      "3264\n",
      "3265\n",
      "3425\n",
      "3426\n",
      "3452\n",
      "3456\n",
      "3462\n",
      "3465\n",
      "3524\n",
      "3526\n",
      "3542\n",
      "3546\n",
      "3562\n",
      "3564\n",
      "3624\n",
      "3625\n",
      "3642\n",
      "3645\n",
      "3652\n",
      "3654\n",
      "4235\n",
      "4236\n",
      "4253\n",
      "4256\n",
      "4263\n",
      "4265\n",
      "4325\n",
      "4326\n",
      "4352\n",
      "4356\n",
      "4362\n",
      "4365\n",
      "4523\n",
      "4526\n",
      "4532\n",
      "4536\n",
      "4562\n",
      "4563\n",
      "4623\n",
      "4625\n",
      "4632\n",
      "4635\n",
      "4652\n",
      "4653\n",
      "5234\n",
      "5236\n",
      "5243\n",
      "5246\n",
      "5263\n",
      "5264\n",
      "5324\n",
      "5326\n",
      "5342\n",
      "5346\n",
      "5362\n",
      "5364\n",
      "5423\n",
      "5426\n",
      "5432\n",
      "5436\n",
      "5462\n",
      "5463\n",
      "5623\n",
      "5624\n",
      "5632\n",
      "5634\n",
      "5642\n",
      "5643\n",
      "6234\n",
      "6235\n",
      "6243\n",
      "6245\n",
      "6253\n",
      "6254\n",
      "6324\n",
      "6325\n",
      "6342\n",
      "6345\n",
      "6352\n",
      "6354\n",
      "6423\n",
      "6425\n",
      "6432\n",
      "6435\n",
      "6452\n",
      "6453\n",
      "6523\n",
      "6524\n",
      "6532\n",
      "6534\n",
      "6542\n",
      "6543\n"
     ]
    }
   ],
   "source": [
    "for p in itertools.permutations(\"23456\",4):\n",
    "    print(''.join(str(x) for x in p))"
   ]
  },
  {
   "cell_type": "code",
   "execution_count": 150,
   "metadata": {},
   "outputs": [
    {
     "name": "stdout",
     "output_type": "stream",
     "text": [
      "2345\n",
      "2346\n",
      "2356\n",
      "2456\n",
      "3456\n"
     ]
    }
   ],
   "source": [
    "for p in itertools.combinations(\"23456\",4):\n",
    "    print(''.join(p))"
   ]
  },
  {
   "cell_type": "code",
   "execution_count": 152,
   "metadata": {},
   "outputs": [
    {
     "name": "stdout",
     "output_type": "stream",
     "text": [
      "23456\n",
      "23465\n",
      "23546\n",
      "23564\n",
      "23645\n",
      "23654\n",
      "24356\n",
      "24365\n",
      "24536\n",
      "24563\n",
      "24635\n",
      "24653\n",
      "25346\n",
      "25364\n",
      "25436\n",
      "25463\n",
      "25634\n",
      "25643\n",
      "26345\n",
      "26354\n",
      "26435\n",
      "26453\n",
      "26534\n",
      "26543\n",
      "32456\n",
      "32465\n",
      "32546\n",
      "32564\n",
      "32645\n",
      "32654\n",
      "34256\n",
      "34265\n",
      "34526\n",
      "34562\n",
      "34625\n",
      "34652\n",
      "35246\n",
      "35264\n",
      "35426\n",
      "35462\n",
      "35624\n",
      "35642\n",
      "36245\n",
      "36254\n",
      "36425\n",
      "36452\n",
      "36524\n",
      "36542\n",
      "42356\n",
      "42365\n",
      "42536\n",
      "42563\n",
      "42635\n",
      "42653\n",
      "43256\n",
      "43265\n",
      "43526\n",
      "43562\n",
      "43625\n",
      "43652\n",
      "45236\n",
      "45263\n",
      "45326\n",
      "45362\n",
      "45623\n",
      "45632\n",
      "46235\n",
      "46253\n",
      "46325\n",
      "46352\n",
      "46523\n",
      "46532\n",
      "52346\n",
      "52364\n",
      "52436\n",
      "52463\n",
      "52634\n",
      "52643\n",
      "53246\n",
      "53264\n",
      "53426\n",
      "53462\n",
      "53624\n",
      "53642\n",
      "54236\n",
      "54263\n",
      "54326\n",
      "54362\n",
      "54623\n",
      "54632\n",
      "56234\n",
      "56243\n",
      "56324\n",
      "56342\n",
      "56423\n",
      "56432\n",
      "62345\n",
      "62354\n",
      "62435\n",
      "62453\n",
      "62534\n",
      "62543\n",
      "63245\n",
      "63254\n",
      "63425\n",
      "63452\n",
      "63524\n",
      "63542\n",
      "64235\n",
      "64253\n",
      "64325\n",
      "64352\n",
      "64523\n",
      "64532\n",
      "65234\n",
      "65243\n",
      "65324\n",
      "65342\n",
      "65423\n",
      "65432\n"
     ]
    }
   ],
   "source": [
    "for p in itertools.permutations(\"23456\",5):\n",
    "    print(''.join(str(x) for x in p))"
   ]
  },
  {
   "cell_type": "markdown",
   "metadata": {},
   "source": [
    "5. Дополните код расчетом коэффициента корреляции x и y по формуле"
   ]
  },
  {
   "cell_type": "code",
   "execution_count": 153,
   "metadata": {},
   "outputs": [
    {
     "name": "stdout",
     "output_type": "stream",
     "text": [
      "0.8872549546246172 0.052327978924929255\n",
      "0.8872549546246157 0.05232797892493039\n"
     ]
    },
    {
     "name": "stderr",
     "output_type": "stream",
     "text": [
      "C:\\Users\\ma_ru\\AppData\\Roaming\\Python\\Python37\\site-packages\\ipykernel_launcher.py:15: FutureWarning: `rcond` parameter will change to the default of machine precision times ``max(M, N)`` where M and N are the input matrix dimensions.\n",
      "To use the future default and silence this warning we advise to pass `rcond=None`, to keep using the old, explicitly pass `rcond=-1`.\n",
      "  from ipykernel import kernelapp as app\n"
     ]
    },
    {
     "data": {
      "image/png": "[encoded data removed]",
      "text/plain": [
       "<Figure size 432x288 with 1 Axes>"
      ]
     },
     "metadata": {
      "needs_background": "light"
     },
     "output_type": "display_data"
    },
    {
     "name": "stdout",
     "output_type": "stream",
     "text": [
      "[[1.         0.99462096]\n",
      " [0.99462096 1.        ]]\n",
      "0.9946209604511766\n"
     ]
    }
   ],
   "source": [
    "n = 100\n",
    "r = 0.9\n",
    "x = np.random.rand(n)\n",
    "y = r*x + (1 - r)*np.random.rand(n)\n",
    "\n",
    "plt.plot(x, y, 'o')\n",
    "plt.xlabel('X')\n",
    "plt.ylabel('Y')\n",
    "plt.grid(True)\n",
    "\n",
    "a = (np.sum(x)*np.sum(y)-n*np.sum(x*y))/(np.sum(x)**2-n*np.sum(x**2))\n",
    "b = (np.sum(y)-a*np.sum(x))/n\n",
    "\n",
    "A = np.vstack([x, np.ones(len(x))]).T\n",
    "a1,b1 = np.linalg.lstsq(A,y)[0]\n",
    "print(a, b)\n",
    "print(a1, b1)\n",
    "plt.plot([0,1],[b,a+b])\n",
    "\n",
    "plt.show()\n",
    "\n",
    "c = np.corrcoef(x,y)\n",
    "x_m = np.sum(x)/n\n",
    "y_m = np.sum(y)/n\n",
    "c1 = np.sum((x-x_m)*(y-y_m))/(np.sum((x-x_m)**2)*np.sum((y-y_m)**2))**0.5\n",
    "print(c)\n",
    "print(c1)\n"
   ]
  },
  {
   "cell_type": "code",
   "execution_count": null,
   "metadata": {},
   "outputs": [],
   "source": []
  }
 ],
 "metadata": {
  "kernelspec": {
   "display_name": "Python 3",
   "language": "python",
   "name": "python3"
  },
  "language_info": {
   "codemirror_mode": {
    "name": "ipython",
    "version": 3
   },
   "file_extension": ".py",
   "mimetype": "text/x-python",
   "name": "python",
   "nbconvert_exporter": "python",
   "pygments_lexer": "ipython3",
   "version": "3.7.4"
  }
 },
 "nbformat": 4,
 "nbformat_minor": 2
}
